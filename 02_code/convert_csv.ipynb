{
 "cells": [
  {
   "cell_type": "code",
   "execution_count": 29,
   "metadata": {},
   "outputs": [],
   "source": [
    "import pandas as pd\n",
    "import pyarrow.csv as pv\n",
    "import pyarrow.parquet as pq\n",
    "from fastparquet import ParquetFile\n",
    "\n"
   ]
  },
  {
   "cell_type": "code",
   "execution_count": null,
   "metadata": {},
   "outputs": [],
   "source": []
  },
  {
   "cell_type": "code",
   "execution_count": 33,
   "metadata": {},
   "outputs": [],
   "source": [
    "# CSV to Parquet\n",
    "\n",
    "for i in range(1,16):\n",
    "    if i<10:\n",
    "        filename= f\"C:\\\\Users\\\\advai\\\\Dropbox\\\\Research\\\\hces_2022\\\\04_clean\\\\level_0{i}.csv\"\n",
    "        f=pv.read_csv(filename)\n",
    "        pq.write_table(f, filename.replace('csv', 'parquet'))\n",
    "    else:\n",
    "        filename= f\"C:\\\\Users\\\\advai\\\\Dropbox\\\\Research\\\\hces_2022\\\\04_clean\\\\level_{i}.csv\"\n",
    "        f=pv.read_csv(filename)\n",
    "        pq.write_table(f, filename.replace('csv', 'parquet'))\n",
    "    "
   ]
  },
  {
   "cell_type": "code",
   "execution_count": 37,
   "metadata": {},
   "outputs": [],
   "source": [
    "\n",
    "# Parquet to CSV\n",
    "for i in range(1, 16):\n",
    "    if i < 10:\n",
    "        filename = f\"C:\\\\Users\\\\advai\\\\Dropbox\\\\Research\\\\hces_2022\\\\04_clean\\\\level_0{i}.parquet\"\n",
    "    else:\n",
    "        filename = f\"C:\\\\Users\\\\advai\\\\Dropbox\\\\Research\\\\hces_2022\\\\04_clean\\\\level_{i}.parquet\"\n",
    "    \n",
    "    # Reading the parquet file\n",
    "    pf = pq.ParquetFile(filename)\n",
    "    \n",
    "    # Converting data into pandas DataFrame\n",
    "    dataFrame = pf.read().to_pandas()\n",
    "    \n",
    "    # Converting to CSV\n",
    "    output_csv = f\"C:\\\\Users\\\\advai\\\\Dropbox\\\\Research\\\\hces_2022\\\\04_clean\\\\level_{i}.csv\"\n",
    "    dataFrame.to_csv(output_csv, index=False)\n"
   ]
  },
  {
   "cell_type": "code",
   "execution_count": 31,
   "metadata": {},
   "outputs": [],
   "source": []
  }
 ],
 "metadata": {
  "kernelspec": {
   "display_name": "Python 3",
   "language": "python",
   "name": "python3"
  },
  "language_info": {
   "codemirror_mode": {
    "name": "ipython",
    "version": 3
   },
   "file_extension": ".py",
   "mimetype": "text/x-python",
   "name": "python",
   "nbconvert_exporter": "python",
   "pygments_lexer": "ipython3",
   "version": "3.11.4"
  }
 },
 "nbformat": 4,
 "nbformat_minor": 2
}
